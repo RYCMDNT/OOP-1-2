{
  "nbformat": 4,
  "nbformat_minor": 0,
  "metadata": {
    "colab": {
      "name": "Prelim exam.ipynb",
      "provenance": [],
      "authorship_tag": "ABX9TyMJEKVnxj5M0VTBVY17kjJ7",
      "include_colab_link": true
    },
    "kernelspec": {
      "name": "python3",
      "display_name": "Python 3"
    },
    "language_info": {
      "name": "python"
    }
  },
  "cells": [
    {
      "cell_type": "markdown",
      "metadata": {
        "id": "view-in-github",
        "colab_type": "text"
      },
      "source": [
        "<a href=\"https://colab.research.google.com/github/RYCMDNT/OOP-1-2/blob/main/Prelim_exam.ipynb\" target=\"_parent\"><img src=\"https://colab.research.google.com/assets/colab-badge.svg\" alt=\"Open In Colab\"/></a>"
      ]
    },
    {
      "cell_type": "code",
      "execution_count": null,
      "metadata": {
        "colab": {
          "base_uri": "https://localhost:8080/"
        },
        "id": "-yFNP6MmPTp1",
        "outputId": "1f7b456b-b0ef-4c19-8996-16056af05a7d"
      },
      "outputs": [
        {
          "output_type": "stream",
          "name": "stdout",
          "text": [
            "Name: Rodolfo Yuan David Comandante III\n",
            "Student_Number: 202101504\n",
            "My Age: 18\n",
            "My School: Cavite State University\n",
            "My Course: BS Computer Engineering(BSCpE)\n"
          ]
        }
      ],
      "source": [
        "class Student:\n",
        "  def __init__(self, Name, Student_No, Age, School, Course):\n",
        "    self.name=Name\n",
        "    self.student_number=Student_No\n",
        "    self.age=Age\n",
        "    self.school=School\n",
        "    self.course=Course\n",
        "\n",
        "  def info(self):\n",
        "    print(\"Name:\",self.name) \n",
        "    print(\"Student_Number:\",self.student_number)\n",
        "    print(\"My Age:\",self.age)\n",
        "    print(\"My School:\",self.school)\n",
        "    print(\"My Course:\",self.course)\n",
        "\n",
        "myself=Student(\"Rodolfo Yuan David Comandante III\", \"202101504\", \"18\", \"Cavite State University\", \"BS Computer Engineering(BSCpE)\")\n",
        "myself.info()"
      ]
    }
  ]
}