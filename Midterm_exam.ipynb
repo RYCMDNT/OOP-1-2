{
  "nbformat": 4,
  "nbformat_minor": 0,
  "metadata": {
    "colab": {
      "name": "Midterm exam.ipynb",
      "provenance": [],
      "authorship_tag": "ABX9TyN+5eHVKKa66r39/delzi12",
      "include_colab_link": true
    },
    "kernelspec": {
      "name": "python3",
      "display_name": "Python 3"
    },
    "language_info": {
      "name": "python"
    }
  },
  "cells": [
    {
      "cell_type": "markdown",
      "metadata": {
        "id": "view-in-github",
        "colab_type": "text"
      },
      "source": [
        "<a href=\"https://colab.research.google.com/github/RYCMDNT/OOP-1-2/blob/main/Midterm_exam.ipynb\" target=\"_parent\"><img src=\"https://colab.research.google.com/assets/colab-badge.svg\" alt=\"Open In Colab\"/></a>"
      ]
    },
    {
      "cell_type": "markdown",
      "source": [
        "**Problem 1**"
      ],
      "metadata": {
        "id": "5sfeMd4fyr8o"
      }
    },
    {
      "cell_type": "code",
      "execution_count": null,
      "metadata": {
        "id": "I9fzM9xCxRIH"
      },
      "outputs": [],
      "source": [
        "def main():\n",
        " class TemperatureConversion:\n",
        "  def __init__(self, temp=1):\n",
        "   self._temp = temp\n",
        " class CelsiusToFahrenheit(TemperatureConversion):\n",
        "  def conversion(self):\n",
        "   return (self._temp * 9) / 5 + 32\n",
        " class CelsiusToKelvin(TemperatureConversion):\n",
        "  def conversion(self):\n",
        "   return self._temp + 273.15\n",
        " class TemperatureConversion:\n",
        "  def __init__(self, temp=1):\n",
        "   self._temp = temp\n",
        " class FahrenheitToCelsius(TemperatureConversion):\n",
        "  def conversion(self):\n",
        "   return (self._temp - 32) * 9/5\n",
        " class KelvinToCelsius(TemperatureConversion):\n",
        "  def conversion(self):\n",
        "   return self._temp - 273.15\n",
        "\n",
        " tempInCelsius = float(input(\"Enter the temperature in Celsius: \"))\n",
        " convert = CelsiusToKelvin(tempInCelsius)\n",
        " print(str(convert.conversion()) + \" Kelvin\")\n",
        " convert = CelsiusToFahrenheit(tempInCelsius)\n",
        " print(str(convert.conversion()) + \" Fahrenheit\")\n",
        " tempInFahrenheit = float(input(\"Enter the temperature in Fahrenheit: \"))\n",
        " convert = FahrenheitToCelsius(tempInFahrenheit)\n",
        " print(str(convert.conversion()) + \" Celcius\")\n",
        " tempInKelvin = float(input(\"Enter the temperature in Kelvin: \"))\n",
        " convert = KelvinToCelsius(tempInKelvin)\n",
        " print(str(convert.conversion()) + \" Celcius\")\n",
        "\n",
        "\n",
        "main()"
      ]
    },
    {
      "cell_type": "markdown",
      "source": [
        "**Problem 2**"
      ],
      "metadata": {
        "id": "wmIu7bmtyxKy"
      }
    },
    {
      "cell_type": "code",
      "source": [
        "import tkinter as tk\n",
        "\n",
        "class Test():\n",
        "    def __init__(self):\n",
        "        self.root = tk.Tk()\n",
        "        self.root.geometry(\"250x100\")\n",
        "        self.buttonA = tk.Button(self.root,\n",
        "                                 text = \"Click to change color\",\n",
        "                                 bg = \"pink\",\n",
        "                                 fg = \"black\",\n",
        "                                 command=self.changeColor)\n",
        "\n",
        "        self.buttonA.pack()\n",
        "        self.root.mainloop()\n",
        "\n",
        "    def changeColor(self):\n",
        "        self.buttonA.configure(bg=\"red\")\n",
        "\n",
        "app=Test()"
      ],
      "metadata": {
        "id": "0hvBEjXxy0jP"
      },
      "execution_count": null,
      "outputs": []
    }
  ]
}