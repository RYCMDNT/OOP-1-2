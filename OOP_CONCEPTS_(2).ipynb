{
  "nbformat": 4,
  "nbformat_minor": 0,
  "metadata": {
    "colab": {
      "name": "OOP_CONCEPTS_(2).ipynb",
      "provenance": [],
      "authorship_tag": "ABX9TyPoZlVW6HGQfglCukKnG6Oz",
      "include_colab_link": true
    },
    "kernelspec": {
      "name": "python3",
      "display_name": "Python 3"
    },
    "language_info": {
      "name": "python"
    }
  },
  "cells": [
    {
      "cell_type": "markdown",
      "metadata": {
        "id": "view-in-github",
        "colab_type": "text"
      },
      "source": [
        "<a href=\"https://colab.research.google.com/github/RYCMDNT/OOP-1-2/blob/main/OOP_CONCEPTS_(2).ipynb\" target=\"_parent\"><img src=\"https://colab.research.google.com/assets/colab-badge.svg\" alt=\"Open In Colab\"/></a>"
      ]
    },
    {
      "cell_type": "markdown",
      "source": [
        "**Classes with Multiple Objects**"
      ],
      "metadata": {
        "id": "N7D7Lt6UTr1B"
      }
    },
    {
      "cell_type": "code",
      "execution_count": null,
      "metadata": {
        "colab": {
          "base_uri": "https://localhost:8080/"
        },
        "id": "D8hWtZWdWTKs",
        "outputId": "e8cba589-b3b6-4db3-f736-4a2ee18cf576"
      },
      "outputs": [
        {
          "output_type": "stream",
          "name": "stdout",
          "text": [
            "Griffon Vulture flies above clouds\n",
            "Common Crane flies above clouds\n",
            "Emu is the national bird of the Philippines\n"
          ]
        }
      ],
      "source": [
        "class Birds:\n",
        "  def __init__(self, bird_name):\n",
        "    self.bird_name = bird_name\n",
        "\n",
        "  def flying_birds(self):\n",
        "    print(f\"{self.bird_name} flies above clouds\")\n",
        "\n",
        "  def non_flying_birds(self):\n",
        "    print(f\"{self.bird_name} is the national bird of the Philippines\")\n",
        "\n",
        "vulture = Birds(\"Griffon Vulture\")\n",
        "crane = Birds(\"Common Crane\")\n",
        "emu = Birds(\"Emu\")\n",
        "\n",
        "vulture.flying_birds()\n",
        "crane.flying_birds()\n",
        "emu.non_flying_birds()"
      ]
    },
    {
      "cell_type": "markdown",
      "source": [
        "**Encapsulation using mangling with double underscores**"
      ],
      "metadata": {
        "id": "r4-SL2uiT0Qm"
      }
    },
    {
      "cell_type": "code",
      "source": [
        "class foo:\n",
        "  def __init__(self,a,b):\n",
        "    self.__a = a\n",
        "    self.__b = b\n",
        "\n",
        "  def add(self):\n",
        "    return self.__a+self.__b\n",
        "\n",
        "number = foo(3,4)\n",
        "number.add()\n",
        "\n",
        "number.a=7\n",
        "number.add()\n",
        "\n"
      ],
      "metadata": {
        "colab": {
          "base_uri": "https://localhost:8080/"
        },
        "id": "YzggKC_FXWd6",
        "outputId": "b199e446-78b9-402c-d4ac-a1a77ecb42dc"
      },
      "execution_count": null,
      "outputs": [
        {
          "output_type": "execute_result",
          "data": {
            "text/plain": [
              "7"
            ]
          },
          "metadata": {},
          "execution_count": 26
        }
      ]
    },
    {
      "cell_type": "markdown",
      "source": [
        "**Encapsulation with Private Attributes**\n"
      ],
      "metadata": {
        "id": "_cGkKk9iZ6bl"
      }
    },
    {
      "cell_type": "code",
      "source": [
        "class Counter:\n",
        "  def __init__(self):\n",
        "    self.current=0\n",
        "\n",
        "  def increment(self):\n",
        "    self.current +=1\n",
        "  def value(self):\n",
        "   return self.current\n",
        "  def reset(self):\n",
        "    self.current =0\n",
        "\n",
        "num = Counter()\n",
        "num.increment()\n",
        "num.increment()\n",
        "num.increment()\n",
        "\n",
        "num.value()"
      ],
      "metadata": {
        "colab": {
          "base_uri": "https://localhost:8080/"
        },
        "id": "YwcgRp15Z-Vt",
        "outputId": "404c84ed-1603-4973-d31f-89b1badfbc92"
      },
      "execution_count": null,
      "outputs": [
        {
          "output_type": "execute_result",
          "data": {
            "text/plain": [
              "3"
            ]
          },
          "metadata": {},
          "execution_count": 31
        }
      ]
    },
    {
      "cell_type": "markdown",
      "source": [
        "**Inheritance**"
      ],
      "metadata": {
        "id": "s1Ml6tB5UEJX"
      }
    },
    {
      "cell_type": "code",
      "source": [
        "class Person:\n",
        "  def __init__(self, firstname, surname):\n",
        "    self.firstname = firstname\n",
        "    self.surname = surname\n",
        "\n",
        "  def printname(self):\n",
        "    print(self.firstname, self.surname)\n",
        "\n",
        "person = Person(\"Ayezza\", \"Vertudes\")\n",
        "person.printname()\n",
        "\n",
        "class Teacher(Person):\n",
        "  pass \n",
        "\n",
        "person2 = Teacher(\"Maria\", \"Sayo\")\n",
        "person2.printname()\n",
        "\n",
        "class Student(Person):\n",
        "  pass\n",
        "\n",
        "person3 = Student(\"Izuku\", \"Midorya\")\n",
        "person3.printname()"
      ],
      "metadata": {
        "colab": {
          "base_uri": "https://localhost:8080/"
        },
        "id": "7NhRYhWdUHQX",
        "outputId": "7fa70578-2aed-4aaa-eb4a-6570737e4cac"
      },
      "execution_count": null,
      "outputs": [
        {
          "output_type": "stream",
          "name": "stdout",
          "text": [
            "Ayezza Vertudes\n",
            "Maria Sayo\n",
            "Izuku Midorya\n"
          ]
        }
      ]
    },
    {
      "cell_type": "markdown",
      "source": [
        "**Polymorphism**"
      ],
      "metadata": {
        "id": "a8Tvxp6rUZMv"
      }
    },
    {
      "cell_type": "code",
      "source": [
        "class RegularPolygon:\n",
        "  def __init__(self, side):\n",
        "    self.side = side\n",
        "  \n",
        "class Square(RegularPolygon):\n",
        "  def area(self):\n",
        "    return self.side*self.side\n",
        "\n",
        "class EquilateralTriangle(RegularPolygon):\n",
        "  def area(self):\n",
        "    return self.side*self.side*0.433\n",
        "\n",
        "object = Square(4)\n",
        "print(object.area())\n",
        "\n",
        "object2 = EquilateralTriangle(3)\n",
        "print(object2.area())"
      ],
      "metadata": {
        "colab": {
          "base_uri": "https://localhost:8080/"
        },
        "id": "7-NLXXyQUb8_",
        "outputId": "de379bef-9e2e-45e3-f2bb-6d8726054ca3"
      },
      "execution_count": null,
      "outputs": [
        {
          "output_type": "stream",
          "name": "stdout",
          "text": [
            "16\n",
            "3.897\n"
          ]
        }
      ]
    },
    {
      "cell_type": "markdown",
      "source": [
        "Application 1\n",
        "\n",
        "1.Create a Python program that displays the name of three students (Students 1,Student 2, and Student 3) and their term grades.\n",
        "\n",
        "2.Create a class name Person and attributes - std1, std2, std3, pre, mid, fin\n",
        "\n",
        "3.Compute the average of each term grade using Grade() method.\n",
        "\n",
        "4.Information about student's grades must be hidden from others"
      ],
      "metadata": {
        "id": "HghkHPK1UegY"
      }
    },
    {
      "cell_type": "code",
      "source": [
        "class Person:\n",
        "  def __init__(self, fullname, prelim, midterm, final):\n",
        "    self.fullname=fullname\n",
        "    self.pre=prelim\n",
        "    self.mid=midterm\n",
        "    self.fin=final\n",
        "\n",
        "  def ave(self):\n",
        "    self.average=(self.pre+self.mid+self.fin)/3\n",
        "\n",
        "  def show(self):\n",
        "    self.ave()\n",
        "    if self.average >= 75:\n",
        "      self.remarks=\"Passed\"\n",
        "    else:\n",
        "      self.remarks=\"Failed\"\n",
        "    print(\"Average:{} ({})\".format(round(self.average,0),self.remarks))\n",
        "\n",
        "print()\n",
        "print(\"Student 1 Grade and Average: \")\n",
        "print()\n",
        "fullname=str(input(\"Name: \"))\n",
        "prelim=float(input(\"Prelim: \"))\n",
        "midterm=float(input(\"Midterm: \"))\n",
        "final=float(input(\"Final: \"))\n",
        "\n",
        "std1=Person(fullname,prelim,midterm,final)\n",
        "std1.show()\n",
        "print(\"\\n\")\n",
        "\n",
        "print(\"Student 2 Grade and Average: \")\n",
        "print()\n",
        "fullname=str(input(\"Name: \"))\n",
        "prelim=float(input(\"Prelim: \"))\n",
        "midterm=float(input(\"Midterm: \"))\n",
        "final=float(input(\"Final: \"))\n",
        "\n",
        "st2=Person(fullname,prelim,midterm,final)\n",
        "st2.show()\n",
        "print(\"\\n\")\n",
        "\n",
        "print(\"Student 3 Grade and Average: \")\n",
        "print()\n",
        "fullname=str(input(\"Name: \"))\n",
        "prelim=float(input(\"Prelim: \"))\n",
        "midterm=float(input(\"Midterm: \"))\n",
        "final=float(input(\"Final: \"))\n",
        "\n",
        "std3=Person(fullname,prelim,midterm,final)\n",
        "std3.show()"
      ],
      "metadata": {
        "colab": {
          "base_uri": "https://localhost:8080/"
        },
        "id": "NyztyPJ-Uguv",
        "outputId": "a50b95ee-c0d4-4b66-b7c2-227d06355342"
      },
      "execution_count": null,
      "outputs": [
        {
          "output_type": "stream",
          "name": "stdout",
          "text": [
            "\n",
            "Student 1 Grade and Average: \n",
            "\n",
            "Name: Ayezza Vertudes\n",
            "Prelim: 95\n",
            "Midterm: 96.3\n",
            "Final: 97\n",
            "Average:96.0 (Passed)\n",
            "\n",
            "\n",
            "Student 2 Grade and Average: \n",
            "\n",
            "Name: Brian Cuizon\n",
            "Prelim: 93\n",
            "Midterm: 94\n",
            "Final: 97\n",
            "Average:95.0 (Passed)\n",
            "\n",
            "\n",
            "Student 3 Grade and Average: \n",
            "\n",
            "Name: Lloyd Baybay\n",
            "Prelim: 92\n",
            "Midterm: 95\n",
            "Final: 96\n",
            "Average:94.0 (Passed)\n"
          ]
        }
      ]
    }
  ]
}